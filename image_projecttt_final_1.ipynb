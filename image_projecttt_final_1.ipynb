{
  "cells": [
    {
      "cell_type": "code",
      "execution_count": null,
      "metadata": {},
      "outputs": [],
      "source": [
        "#----------------------------------------------------------------------------"
      ]
    },
    {
      "cell_type": "code",
      "execution_count": null,
      "metadata": {},
      "outputs": [],
      "source": []
    },
    {
      "cell_type": "code",
      "execution_count": 1,
      "metadata": {},
      "outputs": [],
      "source": [
        "import os\n",
        "import cv2\n",
        "import numpy as np\n",
        "import tensorflow as tf\n",
        "import matplotlib.pyplot as plt\n",
        "from tensorflow.keras.preprocessing.image import ImageDataGenerator\n",
        "from tensorflow.keras.models import Sequential\n",
        "from tensorflow.keras.layers import Conv2D, MaxPooling2D, Flatten, Dense, Dropout\n",
        "from zipfile import ZipFile\n",
        "from sklearn.model_selection import train_test_split\n",
        "from sklearn.preprocessing import LabelEncoder\n",
        "from sklearn.cluster import KMeans\n",
        "from sklearn.model_selection import train_test_split, GridSearchCV, StratifiedKFold\n",
        "from sklearn.preprocessing import StandardScaler\n",
        "from sklearn.svm import SVC\n",
        "from sklearn.metrics import accuracy_score, classification_report, confusion_matrix\n",
        "from sklearn.svm import SVC\n",
        "import zipfile\n",
        "import tensorflow as tf\n",
        "import numpy as np\n",
        "from keras.preprocessing import image"
      ]
    },
    {
      "cell_type": "code",
      "execution_count": 2,
      "metadata": {},
      "outputs": [],
      "source": [
        "# Define the file path of the zip file and the directory to extract \n",
        "file_path = \"archive.zip\"\n",
        "extract_to = \"vehicles\"\n",
        "\n",
        "# Check if the zip file exists and extract it\n",
        "if not os.path.exists(file_path):\n",
        "    print(f\"The provided input file '{file_path}' does not exist. Please check the path.\")\n",
        "else:\n",
        "    # Extract the contents of the zip file to the specified directory\n",
        "    with zipfile.ZipFile(file_path, 'r') as zip_ref:\n",
        "        zip_ref.extractall(extract_to)\n",
        "        \n",
        "        # Define directories for training, testing, and validation datasets\n",
        "    TRAIN_DIR = os.path.join(extract_to, 'train')\n",
        "    TEST_DIR = os.path.join(extract_to, 'test')\n",
        "    VAL_DIR = os.path.join(extract_to, 'val')"
      ]
    },
    {
      "cell_type": "code",
      "execution_count": 3,
      "metadata": {},
      "outputs": [
        {
          "name": "stdout",
          "output_type": "stream",
          "text": [
            "Found 1400 images belonging to 10 classes.\n",
            "Found 200 images belonging to 10 classes.\n",
            "Found 200 images belonging to 10 classes.\n",
            "Found 200 images belonging to 10 classes in test set.\n",
            "Found 1400 images belonging to 10 classes in training set.\n",
            "Found 200 images belonging to 10 classes in validation set.\n"
          ]
        }
      ],
      "source": [
        "# Debugging: Print directory contents to verify\n",
        "def print_directory_contents(directory):\n",
        "    for root, dirs, files in os.walk(directory):\n",
        "        print(f\"Root: {root}\")\n",
        "        print(f\"Directories: {dirs}\")\n",
        "        print(f\"Files: {files[:5]}\")  # Print only the first 5 files for brevity\n",
        "        print()\n",
        "\n",
        "# ImageDataGenerator with rescale to normalize images\n",
        "train_datagen = ImageDataGenerator(\n",
        "    rescale=1./255,  # Normalize images to the range [0, 1]\n",
        "    shear_range=0.2,\n",
        "    zoom_range=0.2,\n",
        "    horizontal_flip=True\n",
        ")\n",
        "\n",
        "training_set = train_datagen.flow_from_directory(\n",
        "    TRAIN_DIR,\n",
        "    target_size=(64, 64),\n",
        "    batch_size=32,\n",
        "    class_mode='categorical'  # Use 'categorical' since there are multiple classes\n",
        ")\n",
        "\n",
        "val_gen = ImageDataGenerator(rescale=1.0/255.0)  # Normalize validation images to the range [0, 1]\n",
        "\n",
        "val_ds = val_gen.flow_from_directory(\n",
        "    VAL_DIR,\n",
        "    target_size=(64, 64),\n",
        "    batch_size=32,\n",
        "    class_mode='categorical'  # Use 'categorical' since there are multiple classes\n",
        ")\n",
        "\n",
        "test_datagen = ImageDataGenerator(\n",
        "    rescale=1./255,  # Normalize images to the range [0, 1]\n",
        "    shear_range=0.2,\n",
        "    zoom_range=0.2,\n",
        "    horizontal_flip=True\n",
        ")\n",
        "\n",
        "test_set = test_datagen.flow_from_directory(\n",
        "    TEST_DIR,\n",
        "    target_size=(64, 64),\n",
        "    batch_size=32,\n",
        "    class_mode='categorical'  # Use 'categorical' since there are multiple classes\n",
        ")\n",
        "\n",
        "print(f\"Found {test_set.samples} images belonging to {test_set.num_classes} classes in test set.\")\n",
        "print(f\"Found {training_set.samples} images belonging to {training_set.num_classes} classes in training set.\")\n",
        "print(f\"Found {val_ds.samples} images belonging to {val_ds.num_classes} classes in validation set.\")\n"
      ]
    },
    {
      "cell_type": "code",
      "execution_count": 4,
      "metadata": {},
      "outputs": [
        {
          "name": "stdout",
          "output_type": "stream",
          "text": [
            "Validation Directory Contents:\n",
            "Root: vehicles\\val\n",
            "Directories: ['bus', 'family sedan', 'fire engine', 'heavy truck', 'jeep', 'minibus', 'racing car', 'SUV', 'taxi', 'truck']\n",
            "Files: []\n",
            "\n",
            "Root: vehicles\\val\\bus\n",
            "Directories: []\n",
            "Files: ['066c695f141f27ea881df8af5a827c99.jpg', '1b9471eefb6f3951f127beb69ef5a584.jpg', '2b96ccd24db32c2c47581afde8d42722.jpg', '356d8576837338e82cf363d2dc7747c0.jpg', '45242c276cd516adb93561503a2f6ed7.jpg']\n",
            "\n",
            "Root: vehicles\\val\\family sedan\n",
            "Directories: []\n",
            "Files: ['0cc36cf65da889e22fe9264c3079c459.jpg', '2f180924cbcb4fef31c4eafdd1377a8d.jpg', '383f5f3edc4dd305ba0d1eb57ac55892.jpg', '48dc3c3c0038b87e330d7692cae4b0ff.jpg', '571d8914dd5d1b7e5a493b167ee49ce6.jpg']\n",
            "\n",
            "Root: vehicles\\val\\fire engine\n",
            "Directories: []\n",
            "Files: ['1570cbe2a81dd646e94bf5e4e3b1f2b1.jpg', '2f313143d05ede99c2458ba697161c1c.jpg', '3f7a8b1ae0bc3d5d82e1240f810ce47d.jpg', '4b8b36da0de861862b49b1886c3c3109.jpg', '4baa8146de477ebafae4b3f46d5614c2.jpg']\n",
            "\n",
            "Root: vehicles\\val\\heavy truck\n",
            "Directories: []\n",
            "Files: ['0419f656d61b42a6b2d567ed9ab6673f.jpg', '0b63fb15f9c403994e140b5a000088be.jpg', '12c90c522b52cdc2a5c4d460960163e8.jpg', '1a3f888928097b855e49c1926b94a5dc.jpg', '1b97666eaae94e70cba5e238017cab7a.jpg']\n",
            "\n",
            "Root: vehicles\\val\\jeep\n",
            "Directories: []\n",
            "Files: ['01ab0c4e74e5cefbc25e78e8b2b4b30d.jpg', '1ded9b835b61b963f13d6b4374ef2492.jpg', '4aa43e160ee667c2deb922cd371204bc.jpg', '5789a84b08a72667f6ed1dc0e1400778.jpg', '6f13f51f98bd1e2332bfa6f1c1c5ff14.jpg']\n",
            "\n",
            "Root: vehicles\\val\\minibus\n",
            "Directories: []\n",
            "Files: ['14f7ac8a7c0b0568f45dd83aee93d14b.jpg', '21fe41471f49f75b7a8fec97e7914e07.jpg', '433e01b50e079af3f506c22537aaff30.jpg', '4b71b5a2fa94a71b0581c6650a0f8d0a.jpg', '4eac12104d3956e84a8005dc25d6ac9d.jpg']\n",
            "\n",
            "Root: vehicles\\val\\racing car\n",
            "Directories: []\n",
            "Files: ['02a43a441f5c71ab9ff8ecab1f33ca49.jpg', '05a006ebd8667a39988a253b10956bb7.jpg', '0abad4440c4415b9707f11151762526c.jpg', '124db00b777b961fa8ca28fc05d7c130.jpg', '2b6da117b6b37e8fa1d48cddec05b5b2.jpg']\n",
            "\n",
            "Root: vehicles\\val\\SUV\n",
            "Directories: []\n",
            "Files: ['09bbbd3f758e129a2692844e3b62d5a8.jpg', '0ea9451a8de9cf7581835ccb20940174.jpg', '1401fca7a89ef05e7cd9c154a33966f3.jpg', '1a0f819be4dce50a5372679b36c2777f.jpg', '1c8ca620a06bf9ad124c29c180d95a6b.jpg']\n",
            "\n",
            "Root: vehicles\\val\\taxi\n",
            "Directories: []\n",
            "Files: ['050aab9a8a91dca8ed1e518ebf42ee0d.jpg', '253df8c5a6ed19d8dcf26ea58c40094d.jpg', '2aeb7856890c8dc0e0b311077d386690.jpg', '395e11b1214a0308f6a6e7834cebc379.jpg', '508bc40d51bc31a77507595e528155e9.jpg']\n",
            "\n",
            "Root: vehicles\\val\\truck\n",
            "Directories: []\n",
            "Files: ['0930125614a5dbbb8e5c5ee450586a13.jpg', '0967287cbb2b14ed9dc1ec6a1a53b21d.jpg', '0a5067c35b854ce7213e433d12ea500d.jpg', '1fa59ad4144c5f668e92b8ab6a0043f8.jpg', '386f1418e664eab461ea243e85c19d3c.jpg']\n",
            "\n"
          ]
        }
      ],
      "source": [
        "print(\"Validation Directory Contents:\")\n",
        "print_directory_contents(VAL_DIR)"
      ]
    },
    {
      "cell_type": "code",
      "execution_count": 5,
      "metadata": {},
      "outputs": [
        {
          "name": "stdout",
          "output_type": "stream",
          "text": [
            "Test Directory Contents:\n",
            "Root: vehicles\\test\n",
            "Directories: ['bus', 'family sedan', 'fire engine', 'heavy truck', 'jeeb', 'minibus', 'racing car', 'SUV', 'taxi', 'truck']\n",
            "Files: []\n",
            "\n",
            "Root: vehicles\\test\\bus\n",
            "Directories: []\n",
            "Files: ['066c695f141f27ea881df8af5a827c99.jpg', '1b9471eefb6f3951f127beb69ef5a584.jpg', '2b96ccd24db32c2c47581afde8d42722.jpg', '356d8576837338e82cf363d2dc7747c0.jpg', '45242c276cd516adb93561503a2f6ed7.jpg']\n",
            "\n",
            "Root: vehicles\\test\\family sedan\n",
            "Directories: []\n",
            "Files: ['0cc36cf65da889e22fe9264c3079c459.jpg', '2f180924cbcb4fef31c4eafdd1377a8d.jpg', '383f5f3edc4dd305ba0d1eb57ac55892.jpg', '48dc3c3c0038b87e330d7692cae4b0ff.jpg', '571d8914dd5d1b7e5a493b167ee49ce6.jpg']\n",
            "\n",
            "Root: vehicles\\test\\fire engine\n",
            "Directories: []\n",
            "Files: ['1570cbe2a81dd646e94bf5e4e3b1f2b1.jpg', '3f7a8b1ae0bc3d5d82e1240f810ce47d.jpg', '4b8b36da0de861862b49b1886c3c3109.jpg', '4baa8146de477ebafae4b3f46d5614c2.jpg', '4d05406e038cc708cccb6fc4951e8d83.jpg']\n",
            "\n",
            "Root: vehicles\\test\\heavy truck\n",
            "Directories: []\n",
            "Files: ['0419f656d61b42a6b2d567ed9ab6673f.jpg', '0b63fb15f9c403994e140b5a000088be.jpg', '12c90c522b52cdc2a5c4d460960163e8.jpg', '1a3f888928097b855e49c1926b94a5dc.jpg', '1b97666eaae94e70cba5e238017cab7a.jpg']\n",
            "\n",
            "Root: vehicles\\test\\jeeb\n",
            "Directories: []\n",
            "Files: ['01ab0c4e74e5cefbc25e78e8b2b4b30d.jpg', '02a43a441f5c71ab9ff8ecab1f33ca49.jpg', '1ded9b835b61b963f13d6b4374ef2492.jpg', '4aa43e160ee667c2deb922cd371204bc.jpg', '50b382a8b04c0da07f82216583e3f42c.jpg']\n",
            "\n",
            "Root: vehicles\\test\\minibus\n",
            "Directories: []\n",
            "Files: ['14f7ac8a7c0b0568f45dd83aee93d14b.jpg', '1fa59ad4144c5f668e92b8ab6a0043f8.jpg', '21fe41471f49f75b7a8fec97e7914e07.jpg', '3b6365d6ab144b660c0b477442782fa5.jpg', '433e01b50e079af3f506c22537aaff30.jpg']\n",
            "\n",
            "Root: vehicles\\test\\racing car\n",
            "Directories: []\n",
            "Files: ['05a006ebd8667a39988a253b10956bb7.jpg', '0abad4440c4415b9707f11151762526c.jpg', '124db00b777b961fa8ca28fc05d7c130.jpg', '2b6da117b6b37e8fa1d48cddec05b5b2.jpg', '30f4c898ca9b0767801c410deb0d2617.jpg']\n",
            "\n",
            "Root: vehicles\\test\\SUV\n",
            "Directories: []\n",
            "Files: ['09bbbd3f758e129a2692844e3b62d5a8.jpg', '0ea9451a8de9cf7581835ccb20940174.jpg', '1401fca7a89ef05e7cd9c154a33966f3.jpg', '1a0f819be4dce50a5372679b36c2777f.jpg', '1c8ca620a06bf9ad124c29c180d95a6b.jpg']\n",
            "\n",
            "Root: vehicles\\test\\taxi\n",
            "Directories: []\n",
            "Files: ['050aab9a8a91dca8ed1e518ebf42ee0d.jpg', '253df8c5a6ed19d8dcf26ea58c40094d.jpg', '2aeb7856890c8dc0e0b311077d386690.jpg', '395e11b1214a0308f6a6e7834cebc379.jpg', '508bc40d51bc31a77507595e528155e9.jpg']\n",
            "\n",
            "Root: vehicles\\test\\truck\n",
            "Directories: []\n",
            "Files: ['0930125614a5dbbb8e5c5ee450586a13.jpg', '0967287cbb2b14ed9dc1ec6a1a53b21d.jpg', '0a5067c35b854ce7213e433d12ea500d.jpg', '386f1418e664eab461ea243e85c19d3c.jpg', '3c878583ea3cd5128599085fd20d162d.jpg']\n",
            "\n"
          ]
        }
      ],
      "source": [
        "print(\"Test Directory Contents:\")\n",
        "print_directory_contents(TEST_DIR)"
      ]
    },
    {
      "cell_type": "code",
      "execution_count": 6,
      "metadata": {},
      "outputs": [
        {
          "name": "stdout",
          "output_type": "stream",
          "text": [
            "Class names: ['SUV', 'bus', 'family sedan', 'fire engine', 'heavy truck', 'jeep', 'minibus', 'racing car', 'taxi', 'truck']\n"
          ]
        }
      ],
      "source": [
        "# Retrieve the class names from the training set and store them in a list\n",
        "class_names = list(training_set.class_indices.keys())\n",
        "print(f\"Class names: {class_names}\")"
      ]
    },
    {
      "cell_type": "code",
      "execution_count": 7,
      "metadata": {},
      "outputs": [
        {
          "name": "stdout",
          "output_type": "stream",
          "text": [
            "Class names: ['SUV', 'bus', 'family sedan', 'fire engine', 'heavy truck', 'jeep', 'minibus', 'racing car', 'taxi', 'truck']\n"
          ]
        }
      ],
      "source": [
        "# Retrieve the class names from the validation dataset and store them in a list\n",
        "class_names = list(val_ds.class_indices.keys())\n",
        "print(f\"Class names: {class_names}\")"
      ]
    },
    {
      "cell_type": "code",
      "execution_count": 8,
      "metadata": {},
      "outputs": [],
      "source": [
        "def plot_images(x, y, index):\n",
        "    # Create a figure with a specified size\n",
        "    plt.figure(figsize=(15, 3))\n",
        "\n",
        "    # Display the image at the given index from the dataset 'x'\n",
        "    plt.imshow(x[index])\n",
        "    \n",
        "    # Set the label of the x-axis to the class name corresponding to the label of the image\n",
        "    plt.xlabel(class_names[np.argmax(y[index])])"
      ]
    },
    {
      "cell_type": "code",
      "execution_count": 9,
      "metadata": {},
      "outputs": [
        {
          "data": {
            "image/png": "[encoded data removed]",
            "text/plain": [
              "<Figure size 1500x300 with 1 Axes>"
            ]
          },
          "metadata": {},
          "output_type": "display_data"
        }
      ],
      "source": [
        "plot_images(training_set[0][0], training_set[0][1], 5)\n",
        "#training_set[0] returns the first pach of images and labels\n",
        "#training_set[0][0] returns the first batch of images\n",
        "#training_set[0][1] returns the first batch of labels\n",
        "#6 is the index of the image to display\n",
        "#training_set[0][0][6] is the image\n",
        "#training_set[0][1][6] is the label"
      ]
    },
    {
      "cell_type": "code",
      "execution_count": 10,
      "metadata": {},
      "outputs": [],
      "source": [
        "def extract_sift_features(image_paths):\n",
        "    # Create a SIFT (Scale-Invariant Feature Transform) detector object\n",
        "    sift = cv2.SIFT_create()\n",
        "    descriptors_list = []\n",
        "    \n",
        "    # Loop through each image path in the provided list\n",
        "    for img_path in image_paths:\n",
        "\n",
        "    # Read the image in grayscale mode\n",
        "        img = cv2.imread(img_path, cv2.IMREAD_GRAYSCALE)\n",
        "\n",
        "    # Detect keypoints and compute descriptors for the image\n",
        "        keypoints, descriptors = sift.detectAndCompute(img, None)\n",
        "\n",
        "    # If descriptors are found, add them to the list\n",
        "        if descriptors is not None:\n",
        "            descriptors_list.append(descriptors)\n",
        "    return descriptors_list"
      ]
    },
    {
      "cell_type": "code",
      "execution_count": 11,
      "metadata": {},
      "outputs": [],
      "source": [
        "def create_bag_of_words(descriptors_list, num_clusters=100):\n",
        "# Create a KMeans clustering object with a specified number of clusters\n",
        "    kmeans = KMeans(n_clusters=num_clusters, random_state=0)\n",
        "    \n",
        "# Fit the KMeans model to the concatenated list of descriptors\n",
        "    kmeans.fit(np.vstack(descriptors_list))\n",
        "    return kmeans"
      ]
    },
    {
      "cell_type": "code",
      "execution_count": 12,
      "metadata": {},
      "outputs": [],
      "source": [
        "def extract_features_from_bow(descriptors_list, kmeans):\n",
        "    features = []\n",
        "    for descriptors in descriptors_list:\n",
        "# Initialize a histogram with zeros, with the length equal to the number of clusters\n",
        "        histogram = np.zeros(kmeans.n_clusters)\n",
        "        if descriptors is not None:\n",
        "# If descriptors is present, Predict the cluster indices for each descriptor using the trained KMeans model\n",
        "            cluster_indices = kmeans.predict(descriptors)\n",
        "\n",
        "# Increment the corresponding histogram bin for each cluster index\n",
        "            for idx in cluster_indices:\n",
        "                histogram[idx] += 1\n",
        "\n",
        "# Append the histogram to the features list\n",
        "        features.append(histogram)\n",
        "    return np.array(features)"
      ]
    },
    {
      "cell_type": "code",
      "execution_count": 14,
      "metadata": {},
      "outputs": [],
      "source": [
        "def get_image_paths_and_labels(directory):\n",
        "    image_paths = []\n",
        "    labels = []\n",
        "\n",
        "# Create a mapping of class labels to numerical indices\n",
        "    label_map = {label: idx for idx, label in enumerate(os.listdir(directory))}\n",
        "\n",
        "# Loop through each label (subdirectory) in the given directory\n",
        "    for label in os.listdir(directory):\n",
        "        class_dir = os.path.join(directory, label)\n",
        "\n",
        "    # Check if the current path is a directory\n",
        "        if os.path.isdir(class_dir):\n",
        "\n",
        "# Loop through each image file in the class directory\n",
        "            for img_file in os.listdir(class_dir):\n",
        "\n",
        "         # Construct the full image path\n",
        "                img_path = os.path.join(class_dir, img_file)\n",
        "\n",
        "    # Append the image path to the image_paths list\n",
        "                image_paths.append(img_path)\n",
        "            \n",
        "     # Append the corresponding label index to the labels list\n",
        "                labels.append(label_map[label])\n",
        "\n",
        "    # Return the lists of image paths and their corresponding labels\n",
        "    return image_paths, labels"
      ]
    },
    {
      "cell_type": "code",
      "execution_count": 15,
      "metadata": {},
      "outputs": [],
      "source": [
        "def get_test_image_path(directory):\n",
        "    # Initialize an empty list to store image paths\n",
        "    image_paths = []\n",
        "    \n",
        "    # Walk through the directory tree rooted at 'directory'\n",
        "    for root, dirs, files in os.walk(directory):\n",
        "        # Loop through each file in the current directory\n",
        "        for file in files:\n",
        "            # Construct the full image path and append it to the image_paths list\n",
        "            image_paths.append(os.path.join(root, file))\n",
        "    \n",
        "    # Return the list of image paths\n",
        "    return image_paths"
      ]
    },
    {
      "cell_type": "code",
      "execution_count": 16,
      "metadata": {},
      "outputs": [],
      "source": [
        "# Example usage:\n",
        "train_image_paths, train_labels = get_image_paths_and_labels(TRAIN_DIR)\n",
        "val_image_paths, val_labels = get_image_paths_and_labels(VAL_DIR)\n",
        "test_image_paths, tesr_labels = get_image_paths_and_labels(TEST_DIR)"
      ]
    },
    {
      "cell_type": "code",
      "execution_count": 17,
      "metadata": {},
      "outputs": [
        {
          "name": "stdout",
          "output_type": "stream",
          "text": [
            "Number of training images: 1400\n",
            "Number of validation images: 200\n",
            "Number of test imags: 200\n"
          ]
        }
      ],
      "source": [
        "print(f\"Number of training images: {len(train_image_paths)}\")   \n",
        "print(f\"Number of validation images: {len(val_image_paths)}\")\n",
        "print(f\"Number of test imags: {len(test_image_paths)}\")\n"
      ]
    },
    {
      "cell_type": "code",
      "execution_count": 18,
      "metadata": {},
      "outputs": [
        {
          "name": "stdout",
          "output_type": "stream",
          "text": [
            "Number of training descriptors: 1400\n",
            "Number of validation descriptors: 200\n",
            "Number of test descriptors: 200\n"
          ]
        }
      ],
      "source": [
        "train_descriptors_list = extract_sift_features(train_image_paths)\n",
        "val_descriptors_list = extract_sift_features(val_image_paths)\n",
        "test_descriptors_list = extract_sift_features(test_image_paths)\n",
        "\n",
        "# Debugging: Check the size of descriptors list\n",
        "print(f\"Number of training descriptors: {len(train_descriptors_list)}\")\n",
        "print(f\"Number of validation descriptors: {len(val_descriptors_list)}\")\n",
        "print(f\"Number of test descriptors: {len(test_descriptors_list)}\")"
      ]
    },
    {
      "cell_type": "code",
      "execution_count": 19,
      "metadata": {},
      "outputs": [
        {
          "name": "stdout",
          "output_type": "stream",
          "text": [
            "Training features shape: (1400, 100)\n",
            "Validation features shape: (200, 100)\n",
            "Test features shape: (200, 100)\n"
          ]
        }
      ],
      "source": [
        "kmeans = create_bag_of_words(train_descriptors_list, num_clusters=100)\n",
        "train_features = extract_features_from_bow(train_descriptors_list, kmeans)\n",
        "val_features = extract_features_from_bow(val_descriptors_list, kmeans)\n",
        "test_features = extract_features_from_bow(test_descriptors_list, kmeans)\n",
        "\n",
        "# Debugging: Check the size of features array\n",
        "print(f\"Training features shape: {train_features.shape}\")\n",
        "print(f\"Validation features shape: {val_features.shape}\")\n",
        "print(f\"Test features shape: {test_features.shape}\")"
      ]
    },
    {
      "cell_type": "code",
      "execution_count": 20,
      "metadata": {},
      "outputs": [
        {
          "name": "stderr",
          "output_type": "stream",
          "text": [
            "c:\\Users\\Work pc\\AppData\\Local\\Programs\\Python\\Python311\\Lib\\site-packages\\keras\\src\\layers\\reshaping\\flatten.py:37: UserWarning: Do not pass an `input_shape`/`input_dim` argument to a layer. When using Sequential models, prefer using an `Input(shape)` object as the first layer in the model instead.\n",
            "  super().__init__(**kwargs)\n"
          ]
        },
        {
          "name": "stdout",
          "output_type": "stream",
          "text": [
            "Epoch 1/5\n"
          ]
        },
        {
          "name": "stderr",
          "output_type": "stream",
          "text": [
            "c:\\Users\\Work pc\\AppData\\Local\\Programs\\Python\\Python311\\Lib\\site-packages\\keras\\src\\trainers\\data_adapters\\py_dataset_adapter.py:121: UserWarning: Your `PyDataset` class should call `super().__init__(**kwargs)` in its constructor. `**kwargs` can include `workers`, `use_multiprocessing`, `max_queue_size`. Do not pass these arguments to `fit()`, as they will be ignored.\n",
            "  self._warn_if_super_not_called()\n"
          ]
        },
        {
          "name": "stdout",
          "output_type": "stream",
          "text": [
            "\u001b[1m44/44\u001b[0m \u001b[32m━━━━━━━━━━━━━━━━━━━━\u001b[0m\u001b[37m\u001b[0m \u001b[1m21s\u001b[0m 404ms/step - accuracy: 0.1535 - loss: 2.4726 - val_accuracy: 0.3100 - val_loss: 1.9214\n",
            "Epoch 2/5\n",
            "\u001b[1m44/44\u001b[0m \u001b[32m━━━━━━━━━━━━━━━━━━━━\u001b[0m\u001b[37m\u001b[0m \u001b[1m18s\u001b[0m 374ms/step - accuracy: 0.2912 - loss: 2.0254 - val_accuracy: 0.3350 - val_loss: 1.7882\n",
            "Epoch 3/5\n",
            "\u001b[1m44/44\u001b[0m \u001b[32m━━━━━━━━━━━━━━━━━━━━\u001b[0m\u001b[37m\u001b[0m \u001b[1m18s\u001b[0m 359ms/step - accuracy: 0.3322 - loss: 1.8348 - val_accuracy: 0.3400 - val_loss: 1.7776\n",
            "Epoch 4/5\n",
            "\u001b[1m44/44\u001b[0m \u001b[32m━━━━━━━━━━━━━━━━━━━━\u001b[0m\u001b[37m\u001b[0m \u001b[1m18s\u001b[0m 368ms/step - accuracy: 0.3760 - loss: 1.7737 - val_accuracy: 0.4100 - val_loss: 1.6641\n",
            "Epoch 5/5\n",
            "\u001b[1m44/44\u001b[0m \u001b[32m━━━━━━━━━━━━━━━━━━━━\u001b[0m\u001b[37m\u001b[0m \u001b[1m18s\u001b[0m 366ms/step - accuracy: 0.3610 - loss: 1.7928 - val_accuracy: 0.4400 - val_loss: 1.5658\n"
          ]
        },
        {
          "data": {
            "text/plain": [
              "<keras.src.callbacks.history.History at 0x2069ea133d0>"
            ]
          },
          "execution_count": 20,
          "metadata": {},
          "output_type": "execute_result"
        }
      ],
      "source": [
        "from tensorflow.keras import models, layers\n",
        "\n",
        "# Create a sequential neural network model\n",
        "ann = models.Sequential([\n",
        "        # Flatten the input (64x64 RGB images) to a 1D array\n",
        "        layers.Flatten(input_shape=(64,64,3)),\n",
        "        \n",
        "        # Add a dense (fully connected) layer with 3000 units and ReLU activation\n",
        "        layers.Dense(3000, activation='relu'),\n",
        "        \n",
        "        # Add another dense layer with 1000 units and ReLU activation\n",
        "        layers.Dense(1000, activation='relu'),\n",
        "        \n",
        "        # Add the output layer with 10 units (for 10 classes) and softmax activation\n",
        "        layers.Dense(10, activation='softmax')\n",
        "    ])\n",
        "\n",
        "# Compile the model with SGD optimizer, categorical cross-entropy loss, and accuracy metric\n",
        "ann.compile(optimizer='SGD',\n",
        "            loss='categorical_crossentropy',\n",
        "            metrics=['accuracy'])\n",
        "\n",
        "# Train the model on the training set for 5 epochs and validate using the validation set\n",
        "ann.fit(training_set, epochs=5, validation_data=val_ds)\n"
      ]
    },
    {
      "cell_type": "code",
      "execution_count": 21,
      "metadata": {},
      "outputs": [
        {
          "name": "stdout",
          "output_type": "stream",
          "text": [
            "Validation Accuracy: 0.24\n",
            "Validation Classification Report:\n",
            "               precision    recall  f1-score   support\n",
            "\n",
            "           0       0.00      0.00      0.00        20\n",
            "           1       0.00      0.00      0.00        20\n",
            "           2       0.00      0.00      0.00        20\n",
            "           3       0.00      0.00      0.00        20\n",
            "           4       0.31      0.40      0.35        20\n",
            "           5       0.57      0.20      0.30        20\n",
            "           6       0.24      0.55      0.33        20\n",
            "           7       0.59      0.50      0.54        20\n",
            "           8       0.11      0.40      0.18        20\n",
            "           9       0.29      0.35      0.32        20\n",
            "\n",
            "    accuracy                           0.24       200\n",
            "   macro avg       0.21      0.24      0.20       200\n",
            "weighted avg       0.21      0.24      0.20       200\n",
            "\n",
            "Validation Confusion Matrix:\n",
            " [[ 0  0  0  1  4  0  4  0  8  3]\n",
            " [ 0  0  0  0  3  2  9  0  6  0]\n",
            " [ 1  0  0  2  0  1  0  0 12  4]\n",
            " [ 0  0  0  0  0  0  3  1 13  3]\n",
            " [ 0  1  0  0  8  0  2  2  4  3]\n",
            " [ 1  0  0  0  1  4  7  3  3  1]\n",
            " [ 0  0  0  1  5  0 11  0  3  0]\n",
            " [ 0  0  0  0  1  0  4 10  5  0]\n",
            " [ 0  0  0  1  3  0  5  0  8  3]\n",
            " [ 0  0  0  2  1  0  1  1  8  7]]\n"
          ]
        },
        {
          "name": "stderr",
          "output_type": "stream",
          "text": [
            "c:\\Users\\Work pc\\AppData\\Local\\Programs\\Python\\Python311\\Lib\\site-packages\\sklearn\\metrics\\_classification.py:1509: UndefinedMetricWarning: Precision is ill-defined and being set to 0.0 in labels with no predicted samples. Use `zero_division` parameter to control this behavior.\n",
            "  _warn_prf(average, modifier, f\"{metric.capitalize()} is\", len(result))\n",
            "c:\\Users\\Work pc\\AppData\\Local\\Programs\\Python\\Python311\\Lib\\site-packages\\sklearn\\metrics\\_classification.py:1509: UndefinedMetricWarning: Precision is ill-defined and being set to 0.0 in labels with no predicted samples. Use `zero_division` parameter to control this behavior.\n",
            "  _warn_prf(average, modifier, f\"{metric.capitalize()} is\", len(result))\n",
            "c:\\Users\\Work pc\\AppData\\Local\\Programs\\Python\\Python311\\Lib\\site-packages\\sklearn\\metrics\\_classification.py:1509: UndefinedMetricWarning: Precision is ill-defined and being set to 0.0 in labels with no predicted samples. Use `zero_division` parameter to control this behavior.\n",
            "  _warn_prf(average, modifier, f\"{metric.capitalize()} is\", len(result))\n"
          ]
        }
      ],
      "source": [
        "# Scale the training and validation features using StandardScaler\n",
        "scaler = StandardScaler().fit(train_features)\n",
        "train_features = scaler.transform(train_features)\n",
        "val_features = scaler.transform(val_features)\n",
        "\n",
        "# Create and train a Support Vector Classifier (SVC)\n",
        "svc = SVC()\n",
        "svc.fit(train_features, train_labels)\n",
        "\n",
        "# Make predictions on the validation set\n",
        "val_predictions = svc.predict(val_features)\n",
        "\n",
        "print(\"Validation Accuracy:\", accuracy_score(val_labels, val_predictions))\n",
        "print(\"Validation Classification Report:\\n\", classification_report(val_labels, val_predictions))\n",
        "print(\"Validation Confusion Matrix:\\n\", confusion_matrix(val_labels, val_predictions))"
      ]
    },
    {
      "cell_type": "code",
      "execution_count": 22,
      "metadata": {},
      "outputs": [
        {
          "name": "stdout",
          "output_type": "stream",
          "text": [
            "Fitting 5 folds for each of 32 candidates, totalling 160 fits\n",
            "Best Parameters: {'C': 100, 'gamma': 'auto', 'kernel': 'rbf'}\n",
            "Validation Accuracy (Best Model): 0.45\n",
            "Validation Classification Report (Best Model):\n",
            "               precision    recall  f1-score   support\n",
            "\n",
            "           0       0.32      0.30      0.31        20\n",
            "           1       0.40      0.50      0.44        20\n",
            "           2       0.45      0.45      0.45        20\n",
            "           3       0.45      0.45      0.45        20\n",
            "           4       0.59      0.50      0.54        20\n",
            "           5       0.27      0.20      0.23        20\n",
            "           6       0.57      0.60      0.59        20\n",
            "           7       0.59      0.65      0.62        20\n",
            "           8       0.38      0.40      0.39        20\n",
            "           9       0.45      0.45      0.45        20\n",
            "\n",
            "    accuracy                           0.45       200\n",
            "   macro avg       0.45      0.45      0.45       200\n",
            "weighted avg       0.45      0.45      0.45       200\n",
            "\n",
            "Validation Confusion Matrix (Best Model):\n",
            " [[ 6  3  0  1  2  2  0  0  3  3]\n",
            " [ 1 10  1  0  0  4  1  1  2  0]\n",
            " [ 2  0  9  3  0  1  0  0  2  3]\n",
            " [ 5  0  1  9  0  1  0  1  1  2]\n",
            " [ 1  3  3  1 10  0  1  0  1  0]\n",
            " [ 3  4  1  0  1  4  1  4  2  0]\n",
            " [ 1  1  0  1  1  1 12  1  1  1]\n",
            " [ 0  2  0  0  0  2  1 13  1  1]\n",
            " [ 0  2  2  1  1  0  4  1  8  1]\n",
            " [ 0  0  3  4  2  0  1  1  0  9]]\n"
          ]
        }
      ],
      "source": [
        "from sklearn.model_selection import GridSearchCV\n",
        "\n",
        "# Define the parameter grid\n",
        "param_grid = {\n",
        "    'C': [0.1, 1, 10, 100],  # Regularization parameter\n",
        "    'gamma': ['scale', 'auto', 0.1, 1],  # Kernel coefficient\n",
        "    'kernel': ['linear', 'rbf']  # Kernel type\n",
        "}\n",
        "\n",
        "# Initialize SVC\n",
        "svc = SVC()\n",
        "\n",
        "# Initialize GridSearchCV\n",
        "grid_search = GridSearchCV(svc, param_grid, cv=5, n_jobs=-1, verbose=2)\n",
        "\n",
        "# Fit the grid search to the data\n",
        "grid_search.fit(train_features, train_labels)\n",
        "\n",
        "# Get the best parameters\n",
        "best_params = grid_search.best_params_\n",
        "print(\"Best Parameters:\", best_params)\n",
        "\n",
        "# Get the best estimator (model)\n",
        "best_svc = grid_search.best_estimator_\n",
        "\n",
        "# Evaluate the best model on the validation set\n",
        "val_predictions_best = best_svc.predict(val_features)\n",
        "\n",
        "print(\"Validation Accuracy (Best Model):\", accuracy_score(val_labels, val_predictions_best))\n",
        "print(\"Validation Classification Report (Best Model):\\n\", classification_report(val_labels, val_predictions_best))\n",
        "print(\"Validation Confusion Matrix (Best Model):\\n\", confusion_matrix(val_labels, val_predictions_best))\n"
      ]
    },
    {
      "cell_type": "code",
      "execution_count": 23,
      "metadata": {},
      "outputs": [
        {
          "name": "stderr",
          "output_type": "stream",
          "text": [
            "c:\\Users\\Work pc\\AppData\\Local\\Programs\\Python\\Python311\\Lib\\site-packages\\keras\\src\\layers\\convolutional\\base_conv.py:107: UserWarning: Do not pass an `input_shape`/`input_dim` argument to a layer. When using Sequential models, prefer using an `Input(shape)` object as the first layer in the model instead.\n",
            "  super().__init__(activity_regularizer=activity_regularizer, **kwargs)\n"
          ]
        }
      ],
      "source": [
        "cnn = tf.keras.models.Sequential()\n",
        "cnn.add(tf.keras.layers.Conv2D(filters=32, kernel_size=3,\n",
        "activation='relu', input_shape=[64, 64, 3]))\n",
        "cnn.add(tf.keras.layers.MaxPool2D(pool_size=2, strides=2))\n",
        "cnn.add(tf.keras.layers.Conv2D(filters=32, kernel_size=3,\n",
        "activation='relu'))\n",
        "cnn.add(tf.keras.layers.MaxPool2D(pool_size=2, strides=2))\n",
        "cnn.add(tf.keras.layers.Flatten())\n",
        "cnn.add(tf.keras.layers.Dense(units=128, activation='relu'))\n",
        "cnn.add(tf.keras.layers.Dense(units=10, activation='softmax'))\n"
      ]
    },
    {
      "cell_type": "code",
      "execution_count": 24,
      "metadata": {},
      "outputs": [
        {
          "name": "stdout",
          "output_type": "stream",
          "text": [
            "Epoch 1/5\n",
            "\u001b[1m44/44\u001b[0m \u001b[32m━━━━━━━━━━━━━━━━━━━━\u001b[0m\u001b[37m\u001b[0m \u001b[1m18s\u001b[0m 328ms/step - accuracy: 0.1102 - loss: 0.3655 - val_accuracy: 0.2850 - val_loss: 0.3043\n",
            "Epoch 2/5\n",
            "\u001b[1m44/44\u001b[0m \u001b[32m━━━━━━━━━━━━━━━━━━━━\u001b[0m\u001b[37m\u001b[0m \u001b[1m17s\u001b[0m 309ms/step - accuracy: 0.3465 - loss: 0.2880 - val_accuracy: 0.4250 - val_loss: 0.2430\n",
            "Epoch 3/5\n",
            "\u001b[1m44/44\u001b[0m \u001b[32m━━━━━━━━━━━━━━━━━━━━\u001b[0m\u001b[37m\u001b[0m \u001b[1m17s\u001b[0m 320ms/step - accuracy: 0.4830 - loss: 0.2367 - val_accuracy: 0.5200 - val_loss: 0.2319\n",
            "Epoch 4/5\n",
            "\u001b[1m44/44\u001b[0m \u001b[32m━━━━━━━━━━━━━━━━━━━━\u001b[0m\u001b[37m\u001b[0m \u001b[1m16s\u001b[0m 328ms/step - accuracy: 0.5539 - loss: 0.2123 - val_accuracy: 0.5850 - val_loss: 0.2118\n",
            "Epoch 5/5\n",
            "\u001b[1m44/44\u001b[0m \u001b[32m━━━━━━━━━━━━━━━━━━━━\u001b[0m\u001b[37m\u001b[0m \u001b[1m17s\u001b[0m 321ms/step - accuracy: 0.5841 - loss: 0.2005 - val_accuracy: 0.6050 - val_loss: 0.1917\n"
          ]
        }
      ],
      "source": [
        "# Compile the CNN model with Adam optimizer, binary cross-entropy loss, and accuracy as a metric\n",
        "cnn.compile(optimizer='adam', loss='binary_crossentropy', metrics=['accuracy'])\n",
        "\n",
        "# Train the model on the training set for 5 epochs and validate using the validation set\n",
        "history = cnn.fit(x=training_set, validation_data=val_ds, epochs=5)"
      ]
    },
    {
      "cell_type": "code",
      "execution_count": 25,
      "metadata": {},
      "outputs": [
        {
          "data": {
            "text/html": [
              "<pre style=\"white-space:pre;overflow-x:auto;line-height:normal;font-family:Menlo,'DejaVu Sans Mono',consolas,'Courier New',monospace\"><span style=\"font-weight: bold\">Model: \"sequential_1\"</span>\n",
              "</pre>\n"
            ],
            "text/plain": [
              "\u001b[1mModel: \"sequential_1\"\u001b[0m\n"
            ]
          },
          "metadata": {},
          "output_type": "display_data"
        },
        {
          "data": {
            "text/html": [
              "<pre style=\"white-space:pre;overflow-x:auto;line-height:normal;font-family:Menlo,'DejaVu Sans Mono',consolas,'Courier New',monospace\">┏━━━━━━━━━━━━━━━━━━━━━━━━━━━━━━━━━┳━━━━━━━━━━━━━━━━━━━━━━━━┳━━━━━━━━━━━━━━━┓\n",
              "┃<span style=\"font-weight: bold\"> Layer (type)                    </span>┃<span style=\"font-weight: bold\"> Output Shape           </span>┃<span style=\"font-weight: bold\">       Param # </span>┃\n",
              "┡━━━━━━━━━━━━━━━━━━━━━━━━━━━━━━━━━╇━━━━━━━━━━━━━━━━━━━━━━━━╇━━━━━━━━━━━━━━━┩\n",
              "│ conv2d (<span style=\"color: #0087ff; text-decoration-color: #0087ff\">Conv2D</span>)                 │ (<span style=\"color: #00d7ff; text-decoration-color: #00d7ff\">None</span>, <span style=\"color: #00af00; text-decoration-color: #00af00\">62</span>, <span style=\"color: #00af00; text-decoration-color: #00af00\">62</span>, <span style=\"color: #00af00; text-decoration-color: #00af00\">32</span>)     │           <span style=\"color: #00af00; text-decoration-color: #00af00\">896</span> │\n",
              "├─────────────────────────────────┼────────────────────────┼───────────────┤\n",
              "│ max_pooling2d (<span style=\"color: #0087ff; text-decoration-color: #0087ff\">MaxPooling2D</span>)    │ (<span style=\"color: #00d7ff; text-decoration-color: #00d7ff\">None</span>, <span style=\"color: #00af00; text-decoration-color: #00af00\">31</span>, <span style=\"color: #00af00; text-decoration-color: #00af00\">31</span>, <span style=\"color: #00af00; text-decoration-color: #00af00\">32</span>)     │             <span style=\"color: #00af00; text-decoration-color: #00af00\">0</span> │\n",
              "├─────────────────────────────────┼────────────────────────┼───────────────┤\n",
              "│ conv2d_1 (<span style=\"color: #0087ff; text-decoration-color: #0087ff\">Conv2D</span>)               │ (<span style=\"color: #00d7ff; text-decoration-color: #00d7ff\">None</span>, <span style=\"color: #00af00; text-decoration-color: #00af00\">29</span>, <span style=\"color: #00af00; text-decoration-color: #00af00\">29</span>, <span style=\"color: #00af00; text-decoration-color: #00af00\">32</span>)     │         <span style=\"color: #00af00; text-decoration-color: #00af00\">9,248</span> │\n",
              "├─────────────────────────────────┼────────────────────────┼───────────────┤\n",
              "│ max_pooling2d_1 (<span style=\"color: #0087ff; text-decoration-color: #0087ff\">MaxPooling2D</span>)  │ (<span style=\"color: #00d7ff; text-decoration-color: #00d7ff\">None</span>, <span style=\"color: #00af00; text-decoration-color: #00af00\">14</span>, <span style=\"color: #00af00; text-decoration-color: #00af00\">14</span>, <span style=\"color: #00af00; text-decoration-color: #00af00\">32</span>)     │             <span style=\"color: #00af00; text-decoration-color: #00af00\">0</span> │\n",
              "├─────────────────────────────────┼────────────────────────┼───────────────┤\n",
              "│ flatten_1 (<span style=\"color: #0087ff; text-decoration-color: #0087ff\">Flatten</span>)             │ (<span style=\"color: #00d7ff; text-decoration-color: #00d7ff\">None</span>, <span style=\"color: #00af00; text-decoration-color: #00af00\">6272</span>)           │             <span style=\"color: #00af00; text-decoration-color: #00af00\">0</span> │\n",
              "├─────────────────────────────────┼────────────────────────┼───────────────┤\n",
              "│ dense_3 (<span style=\"color: #0087ff; text-decoration-color: #0087ff\">Dense</span>)                 │ (<span style=\"color: #00d7ff; text-decoration-color: #00d7ff\">None</span>, <span style=\"color: #00af00; text-decoration-color: #00af00\">128</span>)            │       <span style=\"color: #00af00; text-decoration-color: #00af00\">802,944</span> │\n",
              "├─────────────────────────────────┼────────────────────────┼───────────────┤\n",
              "│ dense_4 (<span style=\"color: #0087ff; text-decoration-color: #0087ff\">Dense</span>)                 │ (<span style=\"color: #00d7ff; text-decoration-color: #00d7ff\">None</span>, <span style=\"color: #00af00; text-decoration-color: #00af00\">10</span>)             │         <span style=\"color: #00af00; text-decoration-color: #00af00\">1,290</span> │\n",
              "└─────────────────────────────────┴────────────────────────┴───────────────┘\n",
              "</pre>\n"
            ],
            "text/plain": [
              "┏━━━━━━━━━━━━━━━━━━━━━━━━━━━━━━━━━┳━━━━━━━━━━━━━━━━━━━━━━━━┳━━━━━━━━━━━━━━━┓\n",
              "┃\u001b[1m \u001b[0m\u001b[1mLayer (type)                   \u001b[0m\u001b[1m \u001b[0m┃\u001b[1m \u001b[0m\u001b[1mOutput Shape          \u001b[0m\u001b[1m \u001b[0m┃\u001b[1m \u001b[0m\u001b[1m      Param #\u001b[0m\u001b[1m \u001b[0m┃\n",
              "┡━━━━━━━━━━━━━━━━━━━━━━━━━━━━━━━━━╇━━━━━━━━━━━━━━━━━━━━━━━━╇━━━━━━━━━━━━━━━┩\n",
              "│ conv2d (\u001b[38;5;33mConv2D\u001b[0m)                 │ (\u001b[38;5;45mNone\u001b[0m, \u001b[38;5;34m62\u001b[0m, \u001b[38;5;34m62\u001b[0m, \u001b[38;5;34m32\u001b[0m)     │           \u001b[38;5;34m896\u001b[0m │\n",
              "├─────────────────────────────────┼────────────────────────┼───────────────┤\n",
              "│ max_pooling2d (\u001b[38;5;33mMaxPooling2D\u001b[0m)    │ (\u001b[38;5;45mNone\u001b[0m, \u001b[38;5;34m31\u001b[0m, \u001b[38;5;34m31\u001b[0m, \u001b[38;5;34m32\u001b[0m)     │             \u001b[38;5;34m0\u001b[0m │\n",
              "├─────────────────────────────────┼────────────────────────┼───────────────┤\n",
              "│ conv2d_1 (\u001b[38;5;33mConv2D\u001b[0m)               │ (\u001b[38;5;45mNone\u001b[0m, \u001b[38;5;34m29\u001b[0m, \u001b[38;5;34m29\u001b[0m, \u001b[38;5;34m32\u001b[0m)     │         \u001b[38;5;34m9,248\u001b[0m │\n",
              "├─────────────────────────────────┼────────────────────────┼───────────────┤\n",
              "│ max_pooling2d_1 (\u001b[38;5;33mMaxPooling2D\u001b[0m)  │ (\u001b[38;5;45mNone\u001b[0m, \u001b[38;5;34m14\u001b[0m, \u001b[38;5;34m14\u001b[0m, \u001b[38;5;34m32\u001b[0m)     │             \u001b[38;5;34m0\u001b[0m │\n",
              "├─────────────────────────────────┼────────────────────────┼───────────────┤\n",
              "│ flatten_1 (\u001b[38;5;33mFlatten\u001b[0m)             │ (\u001b[38;5;45mNone\u001b[0m, \u001b[38;5;34m6272\u001b[0m)           │             \u001b[38;5;34m0\u001b[0m │\n",
              "├─────────────────────────────────┼────────────────────────┼───────────────┤\n",
              "│ dense_3 (\u001b[38;5;33mDense\u001b[0m)                 │ (\u001b[38;5;45mNone\u001b[0m, \u001b[38;5;34m128\u001b[0m)            │       \u001b[38;5;34m802,944\u001b[0m │\n",
              "├─────────────────────────────────┼────────────────────────┼───────────────┤\n",
              "│ dense_4 (\u001b[38;5;33mDense\u001b[0m)                 │ (\u001b[38;5;45mNone\u001b[0m, \u001b[38;5;34m10\u001b[0m)             │         \u001b[38;5;34m1,290\u001b[0m │\n",
              "└─────────────────────────────────┴────────────────────────┴───────────────┘\n"
            ]
          },
          "metadata": {},
          "output_type": "display_data"
        },
        {
          "data": {
            "text/html": [
              "<pre style=\"white-space:pre;overflow-x:auto;line-height:normal;font-family:Menlo,'DejaVu Sans Mono',consolas,'Courier New',monospace\"><span style=\"font-weight: bold\"> Total params: </span><span style=\"color: #00af00; text-decoration-color: #00af00\">2,443,136</span> (9.32 MB)\n",
              "</pre>\n"
            ],
            "text/plain": [
              "\u001b[1m Total params: \u001b[0m\u001b[38;5;34m2,443,136\u001b[0m (9.32 MB)\n"
            ]
          },
          "metadata": {},
          "output_type": "display_data"
        },
        {
          "data": {
            "text/html": [
              "<pre style=\"white-space:pre;overflow-x:auto;line-height:normal;font-family:Menlo,'DejaVu Sans Mono',consolas,'Courier New',monospace\"><span style=\"font-weight: bold\"> Trainable params: </span><span style=\"color: #00af00; text-decoration-color: #00af00\">814,378</span> (3.11 MB)\n",
              "</pre>\n"
            ],
            "text/plain": [
              "\u001b[1m Trainable params: \u001b[0m\u001b[38;5;34m814,378\u001b[0m (3.11 MB)\n"
            ]
          },
          "metadata": {},
          "output_type": "display_data"
        },
        {
          "data": {
            "text/html": [
              "<pre style=\"white-space:pre;overflow-x:auto;line-height:normal;font-family:Menlo,'DejaVu Sans Mono',consolas,'Courier New',monospace\"><span style=\"font-weight: bold\"> Non-trainable params: </span><span style=\"color: #00af00; text-decoration-color: #00af00\">0</span> (0.00 B)\n",
              "</pre>\n"
            ],
            "text/plain": [
              "\u001b[1m Non-trainable params: \u001b[0m\u001b[38;5;34m0\u001b[0m (0.00 B)\n"
            ]
          },
          "metadata": {},
          "output_type": "display_data"
        },
        {
          "data": {
            "text/html": [
              "<pre style=\"white-space:pre;overflow-x:auto;line-height:normal;font-family:Menlo,'DejaVu Sans Mono',consolas,'Courier New',monospace\"><span style=\"font-weight: bold\"> Optimizer params: </span><span style=\"color: #00af00; text-decoration-color: #00af00\">1,628,758</span> (6.21 MB)\n",
              "</pre>\n"
            ],
            "text/plain": [
              "\u001b[1m Optimizer params: \u001b[0m\u001b[38;5;34m1,628,758\u001b[0m (6.21 MB)\n"
            ]
          },
          "metadata": {},
          "output_type": "display_data"
        }
      ],
      "source": [
        "cnn.summary()"
      ]
    },
    {
      "cell_type": "code",
      "execution_count": 26,
      "metadata": {},
      "outputs": [
        {
          "data": {
            "text/plain": [
              "<matplotlib.legend.Legend at 0x2071adf4990>"
            ]
          },
          "execution_count": 26,
          "metadata": {},
          "output_type": "execute_result"
        },
        {
          "data": {
            "image/png": "[encoded data removed]",
            "text/plain": [
              "<Figure size 640x480 with 1 Axes>"
            ]
          },
          "metadata": {},
          "output_type": "display_data"
        }
      ],
      "source": [
        "plt.title('Training Log')\n",
        "plt.plot(history.history['loss'], label='Training Loss')\n",
        "plt.plot(history.history['accuracy'], label='Training Accuracy')\n",
        "plt.xlabel('Epochs')\n",
        "plt.ylabel('Score')\n",
        "plt.legend()"
      ]
    },
    {
      "cell_type": "code",
      "execution_count": 27,
      "metadata": {},
      "outputs": [
        {
          "name": "stdout",
          "output_type": "stream",
          "text": [
            "Epoch 1/5\n",
            "\u001b[1m43/44\u001b[0m \u001b[32m━━━━━━━━━━━━━━━━━━━\u001b[0m\u001b[37m━\u001b[0m \u001b[1m0s\u001b[0m 306ms/step - accuracy: 0.6151 - loss: 0.1957"
          ]
        },
        {
          "name": "stderr",
          "output_type": "stream",
          "text": [
            "c:\\Users\\Work pc\\AppData\\Local\\Programs\\Python\\Python311\\Lib\\site-packages\\keras\\src\\trainers\\data_adapters\\py_dataset_adapter.py:121: UserWarning: Your `PyDataset` class should call `super().__init__(**kwargs)` in its constructor. `**kwargs` can include `workers`, `use_multiprocessing`, `max_queue_size`. Do not pass these arguments to `fit()`, as they will be ignored.\n",
            "  self._warn_if_super_not_called()\n"
          ]
        },
        {
          "name": "stdout",
          "output_type": "stream",
          "text": [
            "\u001b[1m44/44\u001b[0m \u001b[32m━━━━━━━━━━━━━━━━━━━━\u001b[0m\u001b[37m\u001b[0m \u001b[1m19s\u001b[0m 366ms/step - accuracy: 0.6151 - loss: 0.1957 - val_accuracy: 0.5750 - val_loss: 0.2006\n",
            "Epoch 2/5\n",
            "\u001b[1m44/44\u001b[0m \u001b[32m━━━━━━━━━━━━━━━━━━━━\u001b[0m\u001b[37m\u001b[0m \u001b[1m17s\u001b[0m 325ms/step - accuracy: 0.6639 - loss: 0.1741 - val_accuracy: 0.6150 - val_loss: 0.1948\n",
            "Epoch 3/5\n",
            "\u001b[1m44/44\u001b[0m \u001b[32m━━━━━━━━━━━━━━━━━━━━\u001b[0m\u001b[37m\u001b[0m \u001b[1m17s\u001b[0m 322ms/step - accuracy: 0.7017 - loss: 0.1622 - val_accuracy: 0.6050 - val_loss: 0.1951\n",
            "Epoch 4/5\n",
            "\u001b[1m44/44\u001b[0m \u001b[32m━━━━━━━━━━━━━━━━━━━━\u001b[0m\u001b[37m\u001b[0m \u001b[1m17s\u001b[0m 334ms/step - accuracy: 0.7180 - loss: 0.1530 - val_accuracy: 0.6150 - val_loss: 0.1890\n",
            "Epoch 5/5\n",
            "\u001b[1m44/44\u001b[0m \u001b[32m━━━━━━━━━━━━━━━━━━━━\u001b[0m\u001b[37m\u001b[0m \u001b[1m17s\u001b[0m 338ms/step - accuracy: 0.7298 - loss: 0.1510 - val_accuracy: 0.6350 - val_loss: 0.1813\n"
          ]
        }
      ],
      "source": [
        "# Compile the CNN model with Adam optimizer, binary cross-entropy loss, and accuracy as a metric\n",
        "cnn.compile(optimizer='adam', loss='binary_crossentropy', metrics=['accuracy'])\n",
        "\n",
        "# Train the model on the training set for 5 epochs and validate using the test set\n",
        "history = cnn.fit(x=training_set, validation_data=test_set, epochs=5)"
      ]
    },
    {
      "cell_type": "code",
      "execution_count": 29,
      "metadata": {},
      "outputs": [
        {
          "name": "stdout",
          "output_type": "stream",
          "text": [
            "\u001b[1m7/7\u001b[0m \u001b[32m━━━━━━━━━━━━━━━━━━━━\u001b[0m\u001b[37m\u001b[0m \u001b[1m2s\u001b[0m 282ms/step - accuracy: 0.6795 - loss: 0.1746\n",
            "Test Loss: 0.18408456444740295\n",
            "Test Accuracy: 0.6449999809265137\n"
          ]
        }
      ],
      "source": [
        "# Evaluate the model on the test set\n",
        "test_loss, test_accuracy = cnn.evaluate(test_set)\n",
        "print(\"Test Loss:\", test_loss)\n",
        "print(\"Test Accuracy:\", test_accuracy)"
      ]
    },
    {
      "cell_type": "code",
      "execution_count": 28,
      "metadata": {},
      "outputs": [
        {
          "name": "stdout",
          "output_type": "stream",
          "text": [
            "\u001b[1m1/1\u001b[0m \u001b[32m━━━━━━━━━━━━━━━━━━━━\u001b[0m\u001b[37m\u001b[0m \u001b[1m0s\u001b[0m 96ms/step\n",
            "[[9.0704337e-03 1.2061095e-01 5.8754506e-03 4.9712742e-03 4.7148541e-03\n",
            "  1.5625614e-03 3.3603823e-01 2.5098259e-04 3.0685835e-02 4.8621944e-01]]\n"
          ]
        }
      ],
      "source": [
        "# Retrieve the third image from the first batch of the test set\n",
        "test_image = test_set[4][0][2]\n",
        "\n",
        "# Convert the image to a NumPy array\n",
        "test_image = image.img_to_array(test_image)\n",
        "\n",
        "# Expand the dimensions of the image to match the input shape expected by the model (batch size, height, width, channels)\n",
        "test_image = np.expand_dims(test_image, axis=0)\n",
        "\n",
        "# Use the CNN model to make a prediction on the processed test image\n",
        "result = cnn.predict(test_image)\n",
        "\n",
        "# Print the prediction result\n",
        "print(result)"
      ]
    },
    {
      "cell_type": "code",
      "execution_count": 30,
      "metadata": {},
      "outputs": [
        {
          "name": "stdout",
          "output_type": "stream",
          "text": [
            "Validation Accuracy (Best SVC Model): 0.45\n",
            "Validation Classification Report (Best SVC Model):\n",
            "               precision    recall  f1-score   support\n",
            "\n",
            "           0       0.32      0.30      0.31        20\n",
            "           1       0.40      0.50      0.44        20\n",
            "           2       0.45      0.45      0.45        20\n",
            "           3       0.45      0.45      0.45        20\n",
            "           4       0.59      0.50      0.54        20\n",
            "           5       0.27      0.20      0.23        20\n",
            "           6       0.57      0.60      0.59        20\n",
            "           7       0.59      0.65      0.62        20\n",
            "           8       0.38      0.40      0.39        20\n",
            "           9       0.45      0.45      0.45        20\n",
            "\n",
            "    accuracy                           0.45       200\n",
            "   macro avg       0.45      0.45      0.45       200\n",
            "weighted avg       0.45      0.45      0.45       200\n",
            "\n",
            "Validation Confusion Matrix (Best SVC Model):\n",
            " [[ 6  3  0  1  2  2  0  0  3  3]\n",
            " [ 1 10  1  0  0  4  1  1  2  0]\n",
            " [ 2  0  9  3  0  1  0  0  2  3]\n",
            " [ 5  0  1  9  0  1  0  1  1  2]\n",
            " [ 1  3  3  1 10  0  1  0  1  0]\n",
            " [ 3  4  1  0  1  4  1  4  2  0]\n",
            " [ 1  1  0  1  1  1 12  1  1  1]\n",
            " [ 0  2  0  0  0  2  1 13  1  1]\n",
            " [ 0  2  2  1  1  0  4  1  8  1]\n",
            " [ 0  0  3  4  2  0  1  1  0  9]]\n"
          ]
        }
      ],
      "source": [
        "val_accuracy_svc = accuracy_score(val_labels, val_predictions_best)\n",
        "print(\"Validation Accuracy (Best SVC Model):\", val_accuracy_svc)\n",
        "print(\"Validation Classification Report (Best SVC Model):\\n\", classification_report(val_labels, val_predictions_best))\n",
        "print(\"Validation Confusion Matrix (Best SVC Model):\\n\", confusion_matrix(val_labels, val_predictions_best))\n"
      ]
    },
    {
      "cell_type": "code",
      "execution_count": 31,
      "metadata": {},
      "outputs": [
        {
          "name": "stdout",
          "output_type": "stream",
          "text": [
            "\u001b[1m7/7\u001b[0m \u001b[32m━━━━━━━━━━━━━━━━━━━━\u001b[0m\u001b[37m\u001b[0m \u001b[1m2s\u001b[0m 252ms/step - accuracy: 0.6298 - loss: 0.1805\n",
            "Test Loss (CNN): 0.18178114295005798\n",
            "Test Accuracy (CNN): 0.6399999856948853\n",
            "Validation Accuracy (CNN): 0.6349999904632568\n"
          ]
        }
      ],
      "source": [
        "test_loss, test_accuracy = cnn.evaluate(test_set)\n",
        "print(\"Test Loss (CNN):\", test_loss)\n",
        "print(\"Test Accuracy (CNN):\", test_accuracy)\n",
        "\n",
        "# Assuming validation accuracy was stored during training\n",
        "val_accuracy_cnn = max(history.history['val_accuracy'])\n",
        "print(\"Validation Accuracy (CNN):\", val_accuracy_cnn)\n"
      ]
    },
    {
      "cell_type": "code",
      "execution_count": 32,
      "metadata": {},
      "outputs": [
        {
          "data": {
            "text/plain": [
              "<matplotlib.legend.Legend at 0x2079000d290>"
            ]
          },
          "execution_count": 32,
          "metadata": {},
          "output_type": "execute_result"
        },
        {
          "data": {
            "image/png": "[encoded data removed]",
            "text/plain": [
              "<Figure size 1200x400 with 1 Axes>"
            ]
          },
          "metadata": {},
          "output_type": "display_data"
        }
      ],
      "source": [
        "plt.figure(figsize=(12, 4))\n",
        "plt.subplot(1, 2, 1)\n",
        "plt.plot(history.history['accuracy'])\n",
        "plt.plot(history.history['val_accuracy'])\n",
        "plt.title('Model accuracy')\n",
        "plt.ylabel('Accuracy')\n",
        "plt.xlabel('Epoch')\n",
        "plt.legend(['Train', 'Validation'], loc='upper left')\n",
        "\n"
      ]
    },
    {
      "cell_type": "code",
      "execution_count": 33,
      "metadata": {},
      "outputs": [
        {
          "data": {
            "image/png": "[encoded data removed]",
            "text/plain": [
              "<Figure size 640x480 with 1 Axes>"
            ]
          },
          "metadata": {},
          "output_type": "display_data"
        }
      ],
      "source": [
        "plt.subplot(1, 2, 2)\n",
        "plt.plot(history.history['loss'])\n",
        "plt.plot(history.history['val_loss'])\n",
        "plt.title('Model loss')\n",
        "plt.ylabel('Loss')\n",
        "plt.xlabel('Epoch')\n",
        "plt.legend(['Train', 'Validation'], loc='upper left')\n",
        "plt.show()"
      ]
    },
    {
      "cell_type": "code",
      "execution_count": 34,
      "metadata": {},
      "outputs": [
        {
          "name": "stdout",
          "output_type": "stream",
          "text": [
            "\u001b[1m1/1\u001b[0m \u001b[32m━━━━━━━━━━━━━━━━━━━━\u001b[0m\u001b[37m\u001b[0m \u001b[1m0s\u001b[0m 18ms/step\n"
          ]
        },
        {
          "data": {
            "image/png": "[encoded data removed]",
            "text/plain": [
              "<Figure size 640x480 with 1 Axes>"
            ]
          },
          "metadata": {},
          "output_type": "display_data"
        }
      ],
      "source": [
        "import numpy as np\n",
        "import matplotlib.pyplot as plt\n",
        "from tensorflow.keras.preprocessing import image\n",
        "\n",
        "# Define a function to preprocess and predict the class of a single image\n",
        "def predict_single_image(model, img_path, class_names):\n",
        "    # Load the image\n",
        "    img = image.load_img(img_path, target_size=(64, 64))\n",
        "    \n",
        "    # Convert the image to an array and add batch dimension\n",
        "    img_array = image.img_to_array(img)\n",
        "    img_array = np.expand_dims(img_array, axis=0)\n",
        "    \n",
        "    # Normalize the image (as done during training)\n",
        "    img_array /= 255.0\n",
        "    \n",
        "    # Make a prediction\n",
        "    predictions = model.predict(img_array)\n",
        "    predicted_class = np.argmax(predictions, axis=1)\n",
        "    \n",
        "    # Display the image and the predicted class\n",
        "    plt.imshow(img)\n",
        "    plt.title(f\"Predicted class: {class_names[predicted_class[0]]}\")\n",
        "    plt.axis('off')\n",
        "    plt.show()\n",
        "\n",
        "# Example usage:\n",
        "test_image_path = test_image_paths[0]  # Get the path of the first test image\n",
        "predict_single_image(cnn, test_image_path, class_names)\n"
      ]
    },
    {
      "cell_type": "markdown",
      "metadata": {},
      "source": [
        "2. Analyzing Strengths and Weaknesses\n",
        "\n",
        "Let's analyze the strengths and weaknesses of each method.\n",
        "SVC with Bag-of-Words\n",
        "\n",
        "Strengths:\n",
        "\n",
        "    Interpretable Features: The bag-of-words model makes it simple to interpret features.\n",
        "    Efficiency: For smaller datasets, SVC model training can be computationally efficient.\n",
        "    Less Data Requirement: SVC and SIFT features can function well with smaller datasets as well.\n",
        "\n",
        "Weaknesses:\n",
        "\n",
        "    Feature Extraction Complexity: It can be difficult and time-consuming to extract SIFT features and build the bag-of-words model.\n",
        "    Performance Limitations: If the image dataset is complex, the accuracy might be less than that of CNNs.\n",
        "    Scalability: If the dataset is bigger or the images are more complicated, the model might not scale well.\n",
        "\n",
        "CNN\n",
        "\n",
        "Strengths:\n",
        "\n",
        "    High Accuracy: CNNs can learn complex features, which allows them to achieve higher accuracy on average.\n",
        "    End-to-End Learning: CNNs can extract features automatically from raw images, eliminating the need for manual feature extraction.\n",
        "    Scalability: CNNs are efficient at handling larger datasets and more complicated images.\n",
        "    \n",
        "Weaknesses:\n",
        "\n",
        "    Computationally Intensive: A large amount of computer power, including GPUs, is needed to train CNNs.\n",
        "    Data Requirement: CNNs often require large amounts of labeled data to achieve good performance.\n",
        "    Hyperparameter Tuning: CNN architecture design and modifying can be difficult and require knowledge.\n",
        "\n",
        "3. Identifying Scenarios for Hybrid Approach\n",
        "\n",
        "A hybrid approach might combine the strengths of both methods:\n",
        "\n",
        "    Small to Medium-Sized Datasets: Use SIFT + SVC for smaller datasets where computational resources are limited, but accuracy is not the main issue.\n",
        "    Feature Interpretability: When interpretability of features is important, such as in some research applications or regulatory environments.\n",
        "    Preprocessing: Using SIFT features as an additional input to CNNs can sometimes improve performance, especially if the SIFT features capture important aspects not easily learned by the CNN."
      ]
    }
  ],
  "metadata": {
    "colab": {
      "provenance": []
    },
    "kernelspec": {
      "display_name": "Python 3",
      "name": "python3"
    },
    "language_info": {
      "codemirror_mode": {
        "name": "ipython",
        "version": 3
      },
      "file_extension": ".py",
      "mimetype": "text/x-python",
      "name": "python",
      "nbconvert_exporter": "python",
      "pygments_lexer": "ipython3",
      "version": "3.11.1"
    }
  },
  "nbformat": 4,
  "nbformat_minor": 0
}
